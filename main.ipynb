{
 "cells": [
  {
   "cell_type": "markdown",
   "metadata": {
    "id": "h6t_xQfjsf8R"
   },
   "source": [
    "Import the dataset"
   ]
  },
  {
   "cell_type": "code",
   "execution_count": 6,
   "metadata": {
    "id": "OK8RQC8nsf8T"
   },
   "outputs": [],
   "source": [
    "import pandas as pd\n",
    "\n",
    "df = pd.read_csv('Ecommerce_Delivery_Analytics_New.csv')"
   ]
  },
  {
   "cell_type": "code",
   "execution_count": 7,
   "metadata": {
    "id": "YmQ0BwWMsf8U"
   },
   "outputs": [],
   "source": [
    "df.columns = df.columns.str.lower()\n",
    "df.columns = df.columns.str.replace(\" \",\"_\")"
   ]
  },
  {
   "cell_type": "code",
   "execution_count": 8,
   "metadata": {
    "colab": {
     "base_uri": "https://localhost:8080/",
     "height": 582
    },
    "id": "tET68sfVsf8V",
    "outputId": "74244d85-ce63-4066-b482-cd0a5cee388f"
   },
   "outputs": [
    {
     "data": {
      "text/html": [
       "<div>\n",
       "<style scoped>\n",
       "    .dataframe tbody tr th:only-of-type {\n",
       "        vertical-align: middle;\n",
       "    }\n",
       "\n",
       "    .dataframe tbody tr th {\n",
       "        vertical-align: top;\n",
       "    }\n",
       "\n",
       "    .dataframe thead th {\n",
       "        text-align: right;\n",
       "    }\n",
       "</style>\n",
       "<table border=\"1\" class=\"dataframe\">\n",
       "  <thead>\n",
       "    <tr style=\"text-align: right;\">\n",
       "      <th></th>\n",
       "      <th>order_id</th>\n",
       "      <th>customer_id</th>\n",
       "      <th>platform</th>\n",
       "      <th>delivery_time_(minutes)</th>\n",
       "      <th>product_category</th>\n",
       "      <th>order_value_(inr)</th>\n",
       "      <th>customer_feedback</th>\n",
       "      <th>service_rating</th>\n",
       "      <th>delivery_delay</th>\n",
       "      <th>refund_requested</th>\n",
       "    </tr>\n",
       "  </thead>\n",
       "  <tbody>\n",
       "    <tr>\n",
       "      <th>0</th>\n",
       "      <td>ORD000001</td>\n",
       "      <td>CUST2824</td>\n",
       "      <td>JioMart</td>\n",
       "      <td>30</td>\n",
       "      <td>Fruits &amp; Vegetables</td>\n",
       "      <td>382</td>\n",
       "      <td>Fast delivery, great service!</td>\n",
       "      <td>5</td>\n",
       "      <td>No</td>\n",
       "      <td>No</td>\n",
       "    </tr>\n",
       "    <tr>\n",
       "      <th>1</th>\n",
       "      <td>ORD000002</td>\n",
       "      <td>CUST1409</td>\n",
       "      <td>Blinkit</td>\n",
       "      <td>16</td>\n",
       "      <td>Dairy</td>\n",
       "      <td>279</td>\n",
       "      <td>Quick and reliable!</td>\n",
       "      <td>5</td>\n",
       "      <td>No</td>\n",
       "      <td>No</td>\n",
       "    </tr>\n",
       "    <tr>\n",
       "      <th>2</th>\n",
       "      <td>ORD000003</td>\n",
       "      <td>CUST5506</td>\n",
       "      <td>JioMart</td>\n",
       "      <td>25</td>\n",
       "      <td>Beverages</td>\n",
       "      <td>599</td>\n",
       "      <td>Items missing from order.</td>\n",
       "      <td>2</td>\n",
       "      <td>No</td>\n",
       "      <td>Yes</td>\n",
       "    </tr>\n",
       "    <tr>\n",
       "      <th>3</th>\n",
       "      <td>ORD000004</td>\n",
       "      <td>CUST5012</td>\n",
       "      <td>JioMart</td>\n",
       "      <td>42</td>\n",
       "      <td>Beverages</td>\n",
       "      <td>946</td>\n",
       "      <td>Items missing from order.</td>\n",
       "      <td>2</td>\n",
       "      <td>Yes</td>\n",
       "      <td>Yes</td>\n",
       "    </tr>\n",
       "    <tr>\n",
       "      <th>4</th>\n",
       "      <td>ORD000005</td>\n",
       "      <td>CUST4657</td>\n",
       "      <td>Blinkit</td>\n",
       "      <td>30</td>\n",
       "      <td>Beverages</td>\n",
       "      <td>334</td>\n",
       "      <td>Fast delivery, great service!</td>\n",
       "      <td>5</td>\n",
       "      <td>No</td>\n",
       "      <td>No</td>\n",
       "    </tr>\n",
       "    <tr>\n",
       "      <th>...</th>\n",
       "      <td>...</td>\n",
       "      <td>...</td>\n",
       "      <td>...</td>\n",
       "      <td>...</td>\n",
       "      <td>...</td>\n",
       "      <td>...</td>\n",
       "      <td>...</td>\n",
       "      <td>...</td>\n",
       "      <td>...</td>\n",
       "      <td>...</td>\n",
       "    </tr>\n",
       "    <tr>\n",
       "      <th>99995</th>\n",
       "      <td>ORD099996</td>\n",
       "      <td>CUST5324</td>\n",
       "      <td>JioMart</td>\n",
       "      <td>24</td>\n",
       "      <td>Dairy</td>\n",
       "      <td>289</td>\n",
       "      <td>Packaging could be better.</td>\n",
       "      <td>3</td>\n",
       "      <td>No</td>\n",
       "      <td>No</td>\n",
       "    </tr>\n",
       "    <tr>\n",
       "      <th>99996</th>\n",
       "      <td>ORD099997</td>\n",
       "      <td>CUST1677</td>\n",
       "      <td>JioMart</td>\n",
       "      <td>19</td>\n",
       "      <td>Snacks</td>\n",
       "      <td>322</td>\n",
       "      <td>Good quality products.</td>\n",
       "      <td>4</td>\n",
       "      <td>No</td>\n",
       "      <td>No</td>\n",
       "    </tr>\n",
       "    <tr>\n",
       "      <th>99997</th>\n",
       "      <td>ORD099998</td>\n",
       "      <td>CUST8198</td>\n",
       "      <td>JioMart</td>\n",
       "      <td>41</td>\n",
       "      <td>Dairy</td>\n",
       "      <td>135</td>\n",
       "      <td>Fast delivery, great service!</td>\n",
       "      <td>5</td>\n",
       "      <td>Yes</td>\n",
       "      <td>No</td>\n",
       "    </tr>\n",
       "    <tr>\n",
       "      <th>99998</th>\n",
       "      <td>ORD099999</td>\n",
       "      <td>CUST9975</td>\n",
       "      <td>JioMart</td>\n",
       "      <td>31</td>\n",
       "      <td>Grocery</td>\n",
       "      <td>973</td>\n",
       "      <td>Quick and reliable!</td>\n",
       "      <td>5</td>\n",
       "      <td>No</td>\n",
       "      <td>No</td>\n",
       "    </tr>\n",
       "    <tr>\n",
       "      <th>99999</th>\n",
       "      <td>ORD100000</td>\n",
       "      <td>CUST3748</td>\n",
       "      <td>JioMart</td>\n",
       "      <td>34</td>\n",
       "      <td>Fruits &amp; Vegetables</td>\n",
       "      <td>453</td>\n",
       "      <td>Packaging could be better.</td>\n",
       "      <td>3</td>\n",
       "      <td>No</td>\n",
       "      <td>No</td>\n",
       "    </tr>\n",
       "  </tbody>\n",
       "</table>\n",
       "<p>100000 rows × 10 columns</p>\n",
       "</div>"
      ],
      "text/plain": [
       "        order_id customer_id platform  delivery_time_(minutes)  \\\n",
       "0      ORD000001    CUST2824  JioMart                       30   \n",
       "1      ORD000002    CUST1409  Blinkit                       16   \n",
       "2      ORD000003    CUST5506  JioMart                       25   \n",
       "3      ORD000004    CUST5012  JioMart                       42   \n",
       "4      ORD000005    CUST4657  Blinkit                       30   \n",
       "...          ...         ...      ...                      ...   \n",
       "99995  ORD099996    CUST5324  JioMart                       24   \n",
       "99996  ORD099997    CUST1677  JioMart                       19   \n",
       "99997  ORD099998    CUST8198  JioMart                       41   \n",
       "99998  ORD099999    CUST9975  JioMart                       31   \n",
       "99999  ORD100000    CUST3748  JioMart                       34   \n",
       "\n",
       "          product_category  order_value_(inr)              customer_feedback  \\\n",
       "0      Fruits & Vegetables                382  Fast delivery, great service!   \n",
       "1                    Dairy                279            Quick and reliable!   \n",
       "2                Beverages                599      Items missing from order.   \n",
       "3                Beverages                946      Items missing from order.   \n",
       "4                Beverages                334  Fast delivery, great service!   \n",
       "...                    ...                ...                            ...   \n",
       "99995                Dairy                289     Packaging could be better.   \n",
       "99996               Snacks                322         Good quality products.   \n",
       "99997                Dairy                135  Fast delivery, great service!   \n",
       "99998              Grocery                973            Quick and reliable!   \n",
       "99999  Fruits & Vegetables                453     Packaging could be better.   \n",
       "\n",
       "       service_rating delivery_delay refund_requested  \n",
       "0                   5             No               No  \n",
       "1                   5             No               No  \n",
       "2                   2             No              Yes  \n",
       "3                   2            Yes              Yes  \n",
       "4                   5             No               No  \n",
       "...               ...            ...              ...  \n",
       "99995               3             No               No  \n",
       "99996               4             No               No  \n",
       "99997               5            Yes               No  \n",
       "99998               5             No               No  \n",
       "99999               3             No               No  \n",
       "\n",
       "[100000 rows x 10 columns]"
      ]
     },
     "execution_count": 8,
     "metadata": {},
     "output_type": "execute_result"
    }
   ],
   "source": [
    "df.drop(columns=['order_date_&_time'])\n"
   ]
  },
  {
   "cell_type": "code",
   "execution_count": 9,
   "metadata": {
    "colab": {
     "base_uri": "https://localhost:8080/"
    },
    "id": "OgPKbawTsf8W",
    "outputId": "cd23406c-1455-40bc-bd1b-d1f097dff95f"
   },
   "outputs": [
    {
     "name": "stdout",
     "output_type": "stream",
     "text": [
      "9.0\n"
     ]
    }
   ],
   "source": [
    "# What percentage of customers place repeat orders?\n",
    "count = df['customer_id'].value_counts()[df['customer_id'].value_counts() > 1].count()\n",
    "print((count/len(df))*100)"
   ]
  },
  {
   "cell_type": "code",
   "execution_count": 10,
   "metadata": {
    "colab": {
     "base_uri": "https://localhost:8080/",
     "height": 489
    },
    "id": "nSE6mk5nwdz-",
    "outputId": "d9edae18-db33-4ab6-f746-5f2198e7b841"
   },
   "outputs": [
    {
     "data": {
      "text/plain": [
       "customer_id\n",
       "CUST1000    544.900000\n",
       "CUST1001    551.647059\n",
       "CUST1002    563.666667\n",
       "CUST1003    596.714286\n",
       "CUST1004    614.818182\n",
       "               ...    \n",
       "CUST9995    683.111111\n",
       "CUST9996    610.363636\n",
       "CUST9997    486.000000\n",
       "CUST9998    581.714286\n",
       "CUST9999    676.727273\n",
       "Name: order_value_(inr), Length: 9000, dtype: float64"
      ]
     },
     "execution_count": 10,
     "metadata": {},
     "output_type": "execute_result"
    }
   ],
   "source": [
    "# What is the average order value per customer?\n",
    "customers = df.groupby('customer_id')\n",
    "customers['order_value_(inr)'].mean()"
   ]
  },
  {
   "cell_type": "code",
   "execution_count": 11,
   "metadata": {
    "colab": {
     "base_uri": "https://localhost:8080/",
     "height": 303
    },
    "id": "J2O_TD6pwvV5",
    "outputId": "88c29586-6e29-4143-975b-6c62db7aa4e5"
   },
   "outputs": [
    {
     "data": {
      "text/plain": [
       "product_category\n",
       "Beverages              29.503568\n",
       "Dairy                  29.560657\n",
       "Fruits & Vegetables    29.551467\n",
       "Grocery                29.580689\n",
       "Personal Care          29.571584\n",
       "Snacks                 29.448668\n",
       "Name: delivery_time_(minutes), dtype: float64"
      ]
     },
     "execution_count": 11,
     "metadata": {},
     "output_type": "execute_result"
    }
   ],
   "source": [
    "# What is the average delivery time per product category?\n",
    "average_delivery_time = df.groupby('product_category')['delivery_time_(minutes)'].mean()\n",
    "average_delivery_time"
   ]
  },
  {
   "cell_type": "code",
   "execution_count": 12,
   "metadata": {
    "colab": {
     "base_uri": "https://localhost:8080/",
     "height": 209
    },
    "id": "hQFu8U0jxDbN",
    "outputId": "bd01056a-0667-4983-c440-8d4820b243df"
   },
   "outputs": [
    {
     "data": {
      "text/plain": [
       "platform\n",
       "Blinkit             19705084\n",
       "JioMart             19562372\n",
       "Swiggy Instamart    19831984\n",
       "Name: order_value_(inr), dtype: int64"
      ]
     },
     "execution_count": 12,
     "metadata": {},
     "output_type": "execute_result"
    }
   ],
   "source": [
    "# Which platform generates the most revenue?\n",
    "platform_sales = df.groupby('platform')['order_value_(inr)'].sum()\n",
    "platform_sales"
   ]
  },
  {
   "cell_type": "code",
   "execution_count": 13,
   "metadata": {
    "colab": {
     "base_uri": "https://localhost:8080/"
    },
    "id": "FIuf61Bvxd6V",
    "outputId": "7938e8c3-5646-408d-fb49-719abb360410"
   },
   "outputs": [
    {
     "name": "stdout",
     "output_type": "stream",
     "text": [
      "product_category\n",
      "Beverages              15.375220\n",
      "Dairy                  12.877486\n",
      "Fruits & Vegetables    10.569503\n",
      "Grocery                24.017241\n",
      "Personal Care          29.434460\n",
      "Snacks                  7.726090\n",
      "Name: order_value_(inr), dtype: float64\n"
     ]
    }
   ],
   "source": [
    "# Which product categories contribute the most to overall revenue?\n",
    "overall_revenue = df['order_value_(inr)'].sum()\n",
    "product_category_revenue = df.groupby('product_category')['order_value_(inr)'].sum()\n",
    "print((product_category_revenue/overall_revenue)*100)"
   ]
  },
  {
   "cell_type": "code",
   "execution_count": 14,
   "metadata": {
    "id": "BQLqOVd8TCi7"
   },
   "outputs": [],
   "source": [
    "df['negative']= df['service_rating'] <= 2"
   ]
  },
  {
   "cell_type": "code",
   "execution_count": 15,
   "metadata": {
    "colab": {
     "base_uri": "https://localhost:8080/"
    },
    "id": "xNP47-YcgbzX",
    "outputId": "42f24132-09c0-4eb9-872d-d7efeb8e2d88"
   },
   "outputs": [
    {
     "name": "stdout",
     "output_type": "stream",
     "text": [
      "[('wrong', 7738), ('missing', 7737), ('rude', 7643), ('late', 7592), ('happy', 7592), ('fresh', 7580), ('disappointed', 7580), ('horrible', 7529), ('experience', 7529), ('never', 7529)]\n"
     ]
    }
   ],
   "source": [
    "import re\n",
    "from collections import Counter\n",
    "from nltk.corpus import stopwords\n",
    "from nltk.tokenize import word_tokenize\n",
    "\n",
    "stop_words = set(stopwords.words('english'))\n",
    "\n",
    "# Add contextual stopwords\n",
    "contextual_stopwords = ['delivery', 'delivered', 'item','items','package','product', 'order','person']\n",
    "stop_words.update(contextual_stopwords)\n",
    "all_words = []\n",
    "\n",
    "for text in df[df['negative'] == True]['customer_feedback'].dropna():\n",
    "    words = word_tokenize(re.sub(r'[^\\w\\s]', '', text.lower()))\n",
    "    all_words.extend([word for word in words if word not in stop_words])\n",
    "\n",
    "word_counts = Counter(all_words)\n",
    "print(word_counts.most_common(10))"
   ]
  },
  {
   "cell_type": "code",
   "execution_count": 16,
   "metadata": {
    "colab": {
     "base_uri": "https://localhost:8080/"
    },
    "id": "_MiI04-GgfrL",
    "outputId": "1c506193-9a3f-41af-d50b-1ca9d8e5dc82"
   },
   "outputs": [
    {
     "name": "stdout",
     "output_type": "stream",
     "text": [
      "100.0\n"
     ]
    }
   ],
   "source": [
    "low_rating_refunds = df[(df['service_rating'] <= 2) & (df['refund_requested'] == 'Yes')]\n",
    "total_low_ratings = df[df['service_rating'] <= 2]['service_rating'].count()\n",
    "print((len(low_rating_refunds)/total_low_ratings)*100)\n"
   ]
  },
  {
   "cell_type": "code",
   "execution_count": 17,
   "metadata": {
    "colab": {
     "base_uri": "https://localhost:8080/"
    },
    "id": "k_HM0lYc6rbr",
    "outputId": "c7335d67-5513-4bd2-85d5-5d00a80cb1e6"
   },
   "outputs": [
    {
     "name": "stdout",
     "output_type": "stream",
     "text": [
      "Kendall's Tau: -0.0015920381955643495, p-value: 0.5012442855867177\n",
      "Spearman Correlation: -0.0021272223419577688, p-value: 0.5011514531811885\n"
     ]
    }
   ],
   "source": [
    "# What is the correlation between order value and service rating?\n",
    "from scipy.stats import kendalltau, spearmanr\n",
    "\n",
    "corr, p_value = kendalltau(df['order_value_(inr)'], df['service_rating'])\n",
    "print(f\"Kendall's Tau: {corr}, p-value: {p_value}\")\n",
    "\n",
    "\n",
    "corr_, p_value_ = spearmanr(df['order_value_(inr)'], df['service_rating'])\n",
    "print(f\"Spearman Correlation: {corr_}, p-value: {p_value_}\")"
   ]
  },
  {
   "cell_type": "code",
   "execution_count": 18,
   "metadata": {
    "colab": {
     "base_uri": "https://localhost:8080/",
     "height": 643
    },
    "id": "Bw9FWRfDXeY6",
    "outputId": "5e930d2c-ca9b-4858-d0af-5d20afe847de"
   },
   "outputs": [
    {
     "name": "stdout",
     "output_type": "stream",
     "text": [
      "           platform  service_rating  delivery_time_(minutes)  rating_z  \\\n",
      "2  Swiggy Instamart        3.243415                29.499925  0.525687   \n",
      "0           Blinkit        3.233844                29.474898 -1.399831   \n",
      "1           JioMart        3.245147                29.634498  0.874144   \n",
      "\n",
      "   delivery_time_z  balance_score  \n",
      "2        -0.521007       1.046694  \n",
      "0        -0.878098      -0.521732  \n",
      "1         1.399105      -0.524962  \n"
     ]
    },
    {
     "data": {
      "image/png": "[encoded data removed]",
      "text/plain": [
       "<Figure size 800x500 with 1 Axes>"
      ]
     },
     "metadata": {},
     "output_type": "display_data"
    }
   ],
   "source": [
    "# Which platform has the best/worst balance between delivery speed and service rating?\n",
    "from scipy.stats import zscore\n",
    "\n",
    "df_grouped = df.groupby('platform').agg({\n",
    "    'service_rating': 'mean',\n",
    "    'delivery_time_(minutes)': 'mean'\n",
    "}).reset_index()\n",
    "\n",
    "df_grouped['rating_z'] = zscore(df_grouped['service_rating'])\n",
    "df_grouped['delivery_time_z'] = zscore(df_grouped['delivery_time_(minutes)'])\n",
    "\n",
    "df_grouped['balance_score'] = df_grouped['rating_z'] - df_grouped['delivery_time_z']\n",
    "df_grouped = df_grouped.sort_values(by='balance_score', ascending=False)\n",
    "print(df_grouped)\n",
    "\n",
    "import matplotlib.pyplot as plt\n",
    "import seaborn as sns\n",
    "\n",
    "plt.figure(figsize=(8, 5))\n",
    "sns.scatterplot(data=df_grouped, x='delivery_time_(minutes)', y='service_rating', hue='platform', size='balance_score', palette='coolwarm', legend=True)\n",
    "plt.axhline(df_grouped['service_rating'].mean(), color='gray', linestyle='dashed')\n",
    "plt.axvline(df_grouped['delivery_time_(minutes)'].mean(), color='gray', linestyle='dashed')\n",
    "plt.title(\"Platform Performance: Delivery Time vs. Service Rating\")\n",
    "plt.show()\n"
   ]
  },
  {
   "cell_type": "code",
   "execution_count": 19,
   "metadata": {
    "id": "698oFO7mYslm"
   },
   "outputs": [
    {
     "name": "stdout",
     "output_type": "stream",
     "text": [
      "           platform  delivery_time_(minutes)  service_rating  balance_score\n",
      "2  Swiggy Instamart                29.499925        3.243415       0.109947\n",
      "0           Blinkit                29.474898        3.233844       0.109715\n",
      "1           JioMart                29.634498        3.245147       0.109506\n"
     ]
    }
   ],
   "source": [
    "df_grouped = df.groupby('platform').agg({\n",
    "    'delivery_time_(minutes)': 'mean',\n",
    "    'service_rating': 'mean'\n",
    "}).reset_index()\n",
    "\n",
    "df_grouped['balance_score'] = df_grouped['service_rating'] / df_grouped['delivery_time_(minutes)']\n",
    "df_grouped = df_grouped.sort_values(by='balance_score', ascending=False)\n",
    "print(df_grouped)"
   ]
  },
  {
   "cell_type": "code",
   "execution_count": null,
   "metadata": {
    "colab": {
     "base_uri": "https://localhost:8080/"
    },
    "id": "L_uCNj0KiHLw",
    "outputId": "2101fcc8-4747-43cd-8c08-bbfc9d1c3d18"
   },
   "outputs": [],
   "source": []
  }
 ],
 "metadata": {
  "colab": {
   "provenance": []
  },
  "kernelspec": {
   "display_name": "Python 3 (ipykernel)",
   "language": "python",
   "name": "python3"
  },
  "language_info": {
   "codemirror_mode": {
    "name": "ipython",
    "version": 3
   },
   "file_extension": ".py",
   "mimetype": "text/x-python",
   "name": "python",
   "nbconvert_exporter": "python",
   "pygments_lexer": "ipython3",
   "version": "3.10.9"
  }
 },
 "nbformat": 4,
 "nbformat_minor": 1
}
